{
  "nbformat": 4,
  "nbformat_minor": 0,
  "metadata": {
    "colab": {
      "provenance": []
    },
    "kernelspec": {
      "name": "python3",
      "display_name": "Python 3"
    },
    "language_info": {
      "name": "python"
    }
  },
  "cells": [
    {
      "cell_type": "code",
      "execution_count": 3,
      "metadata": {
        "id": "kgUeTqTzmuT6"
      },
      "outputs": [],
      "source": [
        "import math\n",
        "def sigmoid_function(x):\n",
        "  S=1/(1+math.exp(-x))\n",
        "  return S"
      ]
    },
    {
      "cell_type": "code",
      "source": [
        "num =int(input())\n",
        "for i in range(num):\n",
        "  print(sigmoid_function(i))\n"
      ],
      "metadata": {
        "colab": {
          "base_uri": "https://localhost:8080/"
        },
        "id": "Qz_Wi8JtnPj_",
        "outputId": "dc2a6b9d-7aa2-4bc2-c75d-e0b7cc80fbc2"
      },
      "execution_count": 4,
      "outputs": [
        {
          "output_type": "stream",
          "name": "stdout",
          "text": [
            "5\n",
            "0.5\n",
            "0.7310585786300049\n",
            "0.8807970779778823\n",
            "0.9525741268224334\n",
            "0.9820137900379085\n"
          ]
        }
      ]
    }
  ]
}